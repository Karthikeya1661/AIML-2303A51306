{
  "nbformat": 4,
  "nbformat_minor": 0,
  "metadata": {
    "colab": {
      "provenance": [],
      "authorship_tag": "ABX9TyO1+BC2pyv3rmKJMbA69BNQ",
      "include_colab_link": true
    },
    "kernelspec": {
      "name": "python3",
      "display_name": "Python 3"
    },
    "language_info": {
      "name": "python"
    }
  },
  "cells": [
    {
      "cell_type": "markdown",
      "metadata": {
        "id": "view-in-github",
        "colab_type": "text"
      },
      "source": [
        "<a href=\"https://colab.research.google.com/github/Karthikeya1661/AIML-2303A51306/blob/main/pns1.ipynb\" target=\"_parent\"><img src=\"https://colab.research.google.com/assets/colab-badge.svg\" alt=\"Open In Colab\"/></a>"
      ]
    },
    {
      "cell_type": "code",
      "execution_count": 1,
      "metadata": {
        "id": "eEkPS6Dp2lRJ"
      },
      "outputs": [],
      "source": [
        "import numpy as np"
      ]
    },
    {
      "cell_type": "code",
      "source": [
        "a=[1,2,34,6,32,14,65,7]\n",
        "arr=np.array(a)\n",
        "print(arr)"
      ],
      "metadata": {
        "colab": {
          "base_uri": "https://localhost:8080/"
        },
        "id": "rXC6HDJU26OA",
        "outputId": "7f45eadd-a552-4541-aa33-220b1a8f3a88"
      },
      "execution_count": 2,
      "outputs": [
        {
          "output_type": "stream",
          "name": "stdout",
          "text": [
            "[ 1  2 34  6 32 14 65  7]\n"
          ]
        }
      ]
    },
    {
      "cell_type": "code",
      "source": [
        "arr=np.array([1,2,34,6,32,14,65,7])\n",
        "print(arr)"
      ],
      "metadata": {
        "colab": {
          "base_uri": "https://localhost:8080/"
        },
        "id": "4QHdebrV3GEh",
        "outputId": "045f64c3-801d-4479-f0a7-c3cb49f73b98"
      },
      "execution_count": 3,
      "outputs": [
        {
          "output_type": "stream",
          "name": "stdout",
          "text": [
            "[ 1  2 34  6 32 14 65  7]\n"
          ]
        }
      ]
    },
    {
      "cell_type": "code",
      "source": [
        "print(arr[0])\n",
        "print(arr[2])"
      ],
      "metadata": {
        "colab": {
          "base_uri": "https://localhost:8080/"
        },
        "id": "IvNZ00dl3LUT",
        "outputId": "2e9d1013-fac5-4139-8044-7528b6fdacb3"
      },
      "execution_count": 4,
      "outputs": [
        {
          "output_type": "stream",
          "name": "stdout",
          "text": [
            "1\n",
            "34\n"
          ]
        }
      ]
    },
    {
      "cell_type": "code",
      "source": [
        "aa=[[1,2,3,4],[4,2,3,6]]\n",
        "A=np.array(aa)\n",
        "print(A)"
      ],
      "metadata": {
        "colab": {
          "base_uri": "https://localhost:8080/"
        },
        "id": "o367SwIE3Wlm",
        "outputId": "5fc1ca54-407b-440f-a01b-30d2644164d1"
      },
      "execution_count": 5,
      "outputs": [
        {
          "output_type": "stream",
          "name": "stdout",
          "text": [
            "[[1 2 3 4]\n",
            " [4 2 3 6]]\n"
          ]
        }
      ]
    },
    {
      "cell_type": "code",
      "source": [
        "A=np.array([[1,2,3,4],[4,2,3,6]])\n",
        "print(A)"
      ],
      "metadata": {
        "colab": {
          "base_uri": "https://localhost:8080/"
        },
        "id": "lOzvceF33k1Q",
        "outputId": "e6a2683c-60f7-4d3e-e477-0da04eb9cea8"
      },
      "execution_count": 7,
      "outputs": [
        {
          "output_type": "stream",
          "name": "stdout",
          "text": [
            "[[1 2 3 4]\n",
            " [4 2 3 6]]\n"
          ]
        }
      ]
    },
    {
      "cell_type": "code",
      "source": [
        "print(type(A))"
      ],
      "metadata": {
        "colab": {
          "base_uri": "https://localhost:8080/"
        },
        "id": "dbwcmFw633xw",
        "outputId": "9228fd84-584f-4af4-c77c-9611e7b86e87"
      },
      "execution_count": 8,
      "outputs": [
        {
          "output_type": "stream",
          "name": "stdout",
          "text": [
            "<class 'numpy.ndarray'>\n"
          ]
        }
      ]
    },
    {
      "cell_type": "code",
      "source": [
        "print(type(arr))"
      ],
      "metadata": {
        "colab": {
          "base_uri": "https://localhost:8080/"
        },
        "id": "h6sawSUy4Adr",
        "outputId": "4d159029-6706-4293-d611-e9b190d6e6d6"
      },
      "execution_count": 9,
      "outputs": [
        {
          "output_type": "stream",
          "name": "stdout",
          "text": [
            "<class 'numpy.ndarray'>\n"
          ]
        }
      ]
    },
    {
      "cell_type": "code",
      "source": [
        "np.ndim(arr)"
      ],
      "metadata": {
        "colab": {
          "base_uri": "https://localhost:8080/"
        },
        "id": "gQPIXapY4C9K",
        "outputId": "24893036-4db7-4b21-a8aa-b4b5cd864697"
      },
      "execution_count": 10,
      "outputs": [
        {
          "output_type": "execute_result",
          "data": {
            "text/plain": [
              "1"
            ]
          },
          "metadata": {},
          "execution_count": 10
        }
      ]
    },
    {
      "cell_type": "code",
      "source": [
        "np.ndim(A)"
      ],
      "metadata": {
        "colab": {
          "base_uri": "https://localhost:8080/"
        },
        "id": "dBXKuK3L4QbV",
        "outputId": "bb51fd6a-0589-4507-cfe0-c3e467a9e996"
      },
      "execution_count": 11,
      "outputs": [
        {
          "output_type": "execute_result",
          "data": {
            "text/plain": [
              "2"
            ]
          },
          "metadata": {},
          "execution_count": 11
        }
      ]
    },
    {
      "cell_type": "code",
      "source": [
        "print(np.size(arr))"
      ],
      "metadata": {
        "colab": {
          "base_uri": "https://localhost:8080/"
        },
        "id": "Z3OnpKBI4VgC",
        "outputId": "809056d0-1b8e-4847-d342-f2c33497c0b0"
      },
      "execution_count": 12,
      "outputs": [
        {
          "output_type": "stream",
          "name": "stdout",
          "text": [
            "8\n"
          ]
        }
      ]
    },
    {
      "cell_type": "code",
      "source": [
        "print(np.size(A))"
      ],
      "metadata": {
        "colab": {
          "base_uri": "https://localhost:8080/"
        },
        "id": "h-sCMsDL4aU6",
        "outputId": "dd3c7b3e-6030-4eac-d956-5450af678f36"
      },
      "execution_count": 13,
      "outputs": [
        {
          "output_type": "stream",
          "name": "stdout",
          "text": [
            "8\n"
          ]
        }
      ]
    },
    {
      "cell_type": "code",
      "source": [
        "print(np.shape(arr))"
      ],
      "metadata": {
        "colab": {
          "base_uri": "https://localhost:8080/"
        },
        "id": "D_NwZ0Xi4gse",
        "outputId": "6b55d989-06d2-4dc8-be20-f467a3ee9c10"
      },
      "execution_count": 14,
      "outputs": [
        {
          "output_type": "stream",
          "name": "stdout",
          "text": [
            "(8,)\n"
          ]
        }
      ]
    },
    {
      "cell_type": "code",
      "source": [
        "print(np.shape(A))"
      ],
      "metadata": {
        "colab": {
          "base_uri": "https://localhost:8080/"
        },
        "id": "XwuO6JYo4n3U",
        "outputId": "a656f43a-5d48-4822-ea03-522234251d76"
      },
      "execution_count": 15,
      "outputs": [
        {
          "output_type": "stream",
          "name": "stdout",
          "text": [
            "(2, 4)\n"
          ]
        }
      ]
    },
    {
      "cell_type": "code",
      "source": [
        "A=np.array([[1,2,3],[3,4,5],[4,5,6]])\n",
        "print(A)"
      ],
      "metadata": {
        "colab": {
          "base_uri": "https://localhost:8080/"
        },
        "id": "R_fUtHtZ45XD",
        "outputId": "adbc50e7-4b7c-4553-da88-ade50232d2c5"
      },
      "execution_count": 16,
      "outputs": [
        {
          "output_type": "stream",
          "name": "stdout",
          "text": [
            "[[1 2 3]\n",
            " [3 4 5]\n",
            " [4 5 6]]\n"
          ]
        }
      ]
    },
    {
      "cell_type": "code",
      "source": [
        "print(A[0,:])\n",
        "print(A[1,:])\n",
        "print(A[2,:])"
      ],
      "metadata": {
        "colab": {
          "base_uri": "https://localhost:8080/"
        },
        "id": "w7EQdGVb5AAC",
        "outputId": "636f6063-b858-49c0-e4fb-15aa1b13654d"
      },
      "execution_count": 17,
      "outputs": [
        {
          "output_type": "stream",
          "name": "stdout",
          "text": [
            "[1 2 3]\n",
            "[3 4 5]\n",
            "[4 5 6]\n"
          ]
        }
      ]
    },
    {
      "cell_type": "code",
      "source": [
        "print(A[:,0])\n",
        "print(A[:,1])\n",
        "print(A[:,2])"
      ],
      "metadata": {
        "colab": {
          "base_uri": "https://localhost:8080/"
        },
        "id": "FeH_UJ2o5CCx",
        "outputId": "b1156825-9c4c-40e0-e586-db389551eaf3"
      },
      "execution_count": 18,
      "outputs": [
        {
          "output_type": "stream",
          "name": "stdout",
          "text": [
            "[1 3 4]\n",
            "[2 4 5]\n",
            "[3 5 6]\n"
          ]
        }
      ]
    },
    {
      "cell_type": "code",
      "source": [
        "print(A[2,1])"
      ],
      "metadata": {
        "colab": {
          "base_uri": "https://localhost:8080/"
        },
        "id": "iBLixSU15JmX",
        "outputId": "7f6c9860-50c5-4578-c484-bfdfdcc4157f"
      },
      "execution_count": 19,
      "outputs": [
        {
          "output_type": "stream",
          "name": "stdout",
          "text": [
            "5\n"
          ]
        }
      ]
    },
    {
      "cell_type": "code",
      "source": [
        "import pandas as pd"
      ],
      "metadata": {
        "id": "DKsHTKdy5QFd"
      },
      "execution_count": 23,
      "outputs": []
    },
    {
      "cell_type": "code",
      "source": [
        "Dataset={\n",
        "\"State\": ['Andhra Pradesh', 'Maharashtra', 'Karnataka', 'Kerala', 'Tamil Nadu'],\n",
        "\"Capital\": ['Hyderabad', 'Mumbai', 'Bengaluru', 'Trivandrum', 'Chennai'],\n",
        "\"Literacy %\": [89, 77, 82, 97,85],\n",
        "\"Avg High Temp(c)\": [33, 30, 29, 31, 32 ]}\n",
        "print(Dataset)"
      ],
      "metadata": {
        "colab": {
          "base_uri": "https://localhost:8080/"
        },
        "id": "dGZGColW5kyu",
        "outputId": "fd566dfb-79aa-4295-a59a-b233ac122164"
      },
      "execution_count": 20,
      "outputs": [
        {
          "output_type": "stream",
          "name": "stdout",
          "text": [
            "{'State': ['Andhra Pradesh', 'Maharashtra', 'Karnataka', 'Kerala', 'Tamil Nadu'], 'Capital': ['Hyderabad', 'Mumbai', 'Bengaluru', 'Trivandrum', 'Chennai'], 'Literacy %': [89, 77, 82, 97, 85], 'Avg High Temp(c)': [33, 30, 29, 31, 32]}\n"
          ]
        }
      ]
    },
    {
      "cell_type": "code",
      "source": [
        "df = pd.DataFrame(Dataset)\n",
        "print(df)"
      ],
      "metadata": {
        "colab": {
          "base_uri": "https://localhost:8080/"
        },
        "id": "sYZIpjnX5zWN",
        "outputId": "3780b9a6-7dff-4fd4-9efb-d2916b8f516a"
      },
      "execution_count": 24,
      "outputs": [
        {
          "output_type": "stream",
          "name": "stdout",
          "text": [
            "            State     Capital  Literacy %  Avg High Temp(c)\n",
            "0  Andhra Pradesh   Hyderabad          89                33\n",
            "1     Maharashtra      Mumbai          77                30\n",
            "2       Karnataka   Bengaluru          82                29\n",
            "3          Kerala  Trivandrum          97                31\n",
            "4      Tamil Nadu     Chennai          85                32\n"
          ]
        }
      ]
    },
    {
      "cell_type": "code",
      "source": [
        "df = pd.DataFrame({\n",
        "\"State\": ['Andhra Pradesh', 'Maharashtra', 'Karnataka', 'Kerala', 'Tamil Nadu'],\n",
        "\"Capital\": ['Hyderabad', 'Mumbai', 'Bengaluru', 'Trivandrum', 'Chennai'],\n",
        "\"Literacy %\": [89, 77, 82, 97,85],\n",
        "\"Avg High Temp(c)\": [33, 30, 29, 31, 32 ]\n",
        "})\n",
        "print(df)"
      ],
      "metadata": {
        "colab": {
          "base_uri": "https://localhost:8080/"
        },
        "id": "15DRuyCF65jW",
        "outputId": "63ea90d4-35da-4484-9bfe-b93ccbd68823"
      },
      "execution_count": 25,
      "outputs": [
        {
          "output_type": "stream",
          "name": "stdout",
          "text": [
            "            State     Capital  Literacy %  Avg High Temp(c)\n",
            "0  Andhra Pradesh   Hyderabad          89                33\n",
            "1     Maharashtra      Mumbai          77                30\n",
            "2       Karnataka   Bengaluru          82                29\n",
            "3          Kerala  Trivandrum          97                31\n",
            "4      Tamil Nadu     Chennai          85                32\n"
          ]
        }
      ]
    },
    {
      "cell_type": "code",
      "source": [
        "print(df.head(2))"
      ],
      "metadata": {
        "colab": {
          "base_uri": "https://localhost:8080/"
        },
        "id": "XxLzsQJo7Fid",
        "outputId": "8289e852-cce8-4416-c4ae-da546093204e"
      },
      "execution_count": 26,
      "outputs": [
        {
          "output_type": "stream",
          "name": "stdout",
          "text": [
            "            State    Capital  Literacy %  Avg High Temp(c)\n",
            "0  Andhra Pradesh  Hyderabad          89                33\n",
            "1     Maharashtra     Mumbai          77                30\n"
          ]
        }
      ]
    },
    {
      "cell_type": "code",
      "source": [
        "print(df.tail(3))"
      ],
      "metadata": {
        "colab": {
          "base_uri": "https://localhost:8080/"
        },
        "id": "_MhBG_WY7MDc",
        "outputId": "8f1fe6b7-5c57-44ff-d780-e7fdbb8de6de"
      },
      "execution_count": 27,
      "outputs": [
        {
          "output_type": "stream",
          "name": "stdout",
          "text": [
            "        State     Capital  Literacy %  Avg High Temp(c)\n",
            "2   Karnataka   Bengaluru          82                29\n",
            "3      Kerala  Trivandrum          97                31\n",
            "4  Tamil Nadu     Chennai          85                32\n"
          ]
        }
      ]
    },
    {
      "cell_type": "code",
      "source": [
        "print(df.dtypes)"
      ],
      "metadata": {
        "colab": {
          "base_uri": "https://localhost:8080/"
        },
        "id": "LznFut4X7Qir",
        "outputId": "676e60da-97c1-43de-c7ff-03c942e32aaa"
      },
      "execution_count": 28,
      "outputs": [
        {
          "output_type": "stream",
          "name": "stdout",
          "text": [
            "State               object\n",
            "Capital             object\n",
            "Literacy %           int64\n",
            "Avg High Temp(c)     int64\n",
            "dtype: object\n"
          ]
        }
      ]
    },
    {
      "cell_type": "code",
      "source": [
        "print(df.sort_values('Literacy %', ascending=False))"
      ],
      "metadata": {
        "colab": {
          "base_uri": "https://localhost:8080/"
        },
        "id": "c7ZbbiFB7idh",
        "outputId": "040fa925-79d6-4005-f4a6-331e4b222a61"
      },
      "execution_count": 30,
      "outputs": [
        {
          "output_type": "stream",
          "name": "stdout",
          "text": [
            "            State     Capital  Literacy %  Avg High Temp(c)\n",
            "3          Kerala  Trivandrum          97                31\n",
            "0  Andhra Pradesh   Hyderabad          89                33\n",
            "4      Tamil Nadu     Chennai          85                32\n",
            "2       Karnataka   Bengaluru          82                29\n",
            "1     Maharashtra      Mumbai          77                30\n"
          ]
        }
      ]
    },
    {
      "cell_type": "code",
      "source": [
        "print(df[['Capital']])"
      ],
      "metadata": {
        "colab": {
          "base_uri": "https://localhost:8080/"
        },
        "id": "QOvp4iyo7ojT",
        "outputId": "e4de7b99-36fb-43b5-8082-117abde39e01"
      },
      "execution_count": 31,
      "outputs": [
        {
          "output_type": "stream",
          "name": "stdout",
          "text": [
            "      Capital\n",
            "0   Hyderabad\n",
            "1      Mumbai\n",
            "2   Bengaluru\n",
            "3  Trivandrum\n",
            "4     Chennai\n"
          ]
        }
      ]
    },
    {
      "cell_type": "code",
      "source": [
        "print(df[['State', 'Capital']])"
      ],
      "metadata": {
        "colab": {
          "base_uri": "https://localhost:8080/"
        },
        "id": "I2jFpxhN7tMi",
        "outputId": "bd0fb8de-8bf5-4542-9452-eae81ca81cbc"
      },
      "execution_count": 32,
      "outputs": [
        {
          "output_type": "stream",
          "name": "stdout",
          "text": [
            "            State     Capital\n",
            "0  Andhra Pradesh   Hyderabad\n",
            "1     Maharashtra      Mumbai\n",
            "2       Karnataka   Bengaluru\n",
            "3          Kerala  Trivandrum\n",
            "4      Tamil Nadu     Chennai\n"
          ]
        }
      ]
    },
    {
      "cell_type": "code",
      "source": [
        "print(df.loc[2])"
      ],
      "metadata": {
        "colab": {
          "base_uri": "https://localhost:8080/"
        },
        "id": "wvGpFM_67u-B",
        "outputId": "055c4ab8-4048-4ee4-9639-d9c4710f2725"
      },
      "execution_count": 33,
      "outputs": [
        {
          "output_type": "stream",
          "name": "stdout",
          "text": [
            "State               Karnataka\n",
            "Capital             Bengaluru\n",
            "Literacy %                 82\n",
            "Avg High Temp(c)           29\n",
            "Name: 2, dtype: object\n"
          ]
        }
      ]
    },
    {
      "cell_type": "code",
      "source": [
        "print(df.iloc[2])"
      ],
      "metadata": {
        "colab": {
          "base_uri": "https://localhost:8080/"
        },
        "id": "YZQx1XAs71CC",
        "outputId": "d452dafc-6851-48b6-f383-2d1f0e5b81ed"
      },
      "execution_count": 34,
      "outputs": [
        {
          "output_type": "stream",
          "name": "stdout",
          "text": [
            "State               Karnataka\n",
            "Capital             Bengaluru\n",
            "Literacy %                 82\n",
            "Avg High Temp(c)           29\n",
            "Name: 2, dtype: object\n"
          ]
        }
      ]
    },
    {
      "cell_type": "code",
      "source": [
        "print(df.iloc[1,2])"
      ],
      "metadata": {
        "colab": {
          "base_uri": "https://localhost:8080/"
        },
        "id": "zSPoa3sG757l",
        "outputId": "0592a8f7-e543-437d-940a-64e485c791f6"
      },
      "execution_count": 35,
      "outputs": [
        {
          "output_type": "stream",
          "name": "stdout",
          "text": [
            "77\n"
          ]
        }
      ]
    },
    {
      "cell_type": "code",
      "source": [
        "a={\"Distance\":[15, 13, 16, 16, 15, 16, 17, 14, 15, 16, 16,17, 14, 17, 17, 16, 14, 15, 16, 17, 14, 16, 15, 17, 1]}"
      ],
      "metadata": {
        "id": "FcUILLTf8C3s"
      },
      "execution_count": 38,
      "outputs": []
    },
    {
      "cell_type": "code",
      "source": [
        "import pandas as pd\n",
        "df=pd.DataFrame(a)\n",
        "print(df)\n",
        "print('The number of elements in the column is =',df['Distance'].size)"
      ],
      "metadata": {
        "colab": {
          "base_uri": "https://localhost:8080/"
        },
        "id": "OlwxAmJj9ToX",
        "outputId": "eb214652-3623-4cb7-d1c9-90da34e839fa"
      },
      "execution_count": 39,
      "outputs": [
        {
          "output_type": "stream",
          "name": "stdout",
          "text": [
            "    Distance\n",
            "0         15\n",
            "1         13\n",
            "2         16\n",
            "3         16\n",
            "4         15\n",
            "5         16\n",
            "6         17\n",
            "7         14\n",
            "8         15\n",
            "9         16\n",
            "10        16\n",
            "11        17\n",
            "12        14\n",
            "13        17\n",
            "14        17\n",
            "15        16\n",
            "16        14\n",
            "17        15\n",
            "18        16\n",
            "19        17\n",
            "20        14\n",
            "21        16\n",
            "22        15\n",
            "23        17\n",
            "24         1\n",
            "The number of elements in the column is = 25\n"
          ]
        }
      ]
    },
    {
      "cell_type": "code",
      "source": [
        "df2=pd.crosstab(index=df['Distance'],columns='Frequency')\n",
        "print(df2)"
      ],
      "metadata": {
        "colab": {
          "base_uri": "https://localhost:8080/"
        },
        "id": "EUabTrkJ9cIn",
        "outputId": "99345190-bb67-4061-f6d4-7aff01792ebc"
      },
      "execution_count": 40,
      "outputs": [
        {
          "output_type": "stream",
          "name": "stdout",
          "text": [
            "col_0     Frequency\n",
            "Distance           \n",
            "1                 1\n",
            "13                1\n",
            "14                4\n",
            "15                5\n",
            "16                8\n",
            "17                6\n"
          ]
        }
      ]
    },
    {
      "cell_type": "code",
      "source": [
        "print(df2['Frequency'].sum())"
      ],
      "metadata": {
        "colab": {
          "base_uri": "https://localhost:8080/"
        },
        "id": "0vRR-ONx9hr0",
        "outputId": "700c7aec-73cc-4bf4-9313-a1d1b41d2206"
      },
      "execution_count": 41,
      "outputs": [
        {
          "output_type": "stream",
          "name": "stdout",
          "text": [
            "25\n"
          ]
        }
      ]
    },
    {
      "cell_type": "code",
      "source": [
        "df2['Relative_Frequencies']=df2['Frequency']/df2['Frequency'].sum()\n",
        "df2['Percentage']=df2['Frequency']/df2['Frequency'].sum()*100\n",
        "print(df2)"
      ],
      "metadata": {
        "colab": {
          "base_uri": "https://localhost:8080/"
        },
        "id": "-7_TB-2o9nxa",
        "outputId": "2341beb7-3533-4cd2-a727-8b9eb9e84c4e"
      },
      "execution_count": 42,
      "outputs": [
        {
          "output_type": "stream",
          "name": "stdout",
          "text": [
            "col_0     Frequency  Relative_Frequencies  Percentage\n",
            "Distance                                             \n",
            "1                 1                  0.04         4.0\n",
            "13                1                  0.04         4.0\n",
            "14                4                  0.16        16.0\n",
            "15                5                  0.20        20.0\n",
            "16                8                  0.32        32.0\n",
            "17                6                  0.24        24.0\n"
          ]
        }
      ]
    },
    {
      "cell_type": "code",
      "source": [
        "df2.loc['Total']=df2.sum()\n",
        "print(df2)"
      ],
      "metadata": {
        "colab": {
          "base_uri": "https://localhost:8080/"
        },
        "id": "NmtFipnZ99zu",
        "outputId": "73826972-b483-4ef2-f3ac-3941bf1df2f1"
      },
      "execution_count": 43,
      "outputs": [
        {
          "output_type": "stream",
          "name": "stdout",
          "text": [
            "col_0     Frequency  Relative_Frequencies  Percentage\n",
            "Distance                                             \n",
            "1               1.0                  0.04         4.0\n",
            "13              1.0                  0.04         4.0\n",
            "14              4.0                  0.16        16.0\n",
            "15              5.0                  0.20        20.0\n",
            "16              8.0                  0.32        32.0\n",
            "17              6.0                  0.24        24.0\n",
            "Total          25.0                  1.00       100.0\n"
          ]
        }
      ]
    },
    {
      "cell_type": "code",
      "source": [
        "import numpy as np\n",
        "import pandas as pd"
      ],
      "metadata": {
        "id": "wK0Z4Lff-Cup"
      },
      "execution_count": 44,
      "outputs": []
    },
    {
      "cell_type": "code",
      "source": [
        "data=[328, 470, 405, 375, 298, 326, 276, 362, 410, 255, 391, 370, 455, 229, 300, 183,\n",
        "283, 366, 400, 495, 215, 157, 374, 306, 280, 409, 321, 269, 398, 200]\n",
        "diction={\"Score\":data}\n",
        "df=pd.DataFrame(diction)\n",
        "print(df)"
      ],
      "metadata": {
        "colab": {
          "base_uri": "https://localhost:8080/"
        },
        "id": "TA5sNbfi-If7",
        "outputId": "e6abca8a-edd3-4ecc-8782-776928e597dd"
      },
      "execution_count": 45,
      "outputs": [
        {
          "output_type": "stream",
          "name": "stdout",
          "text": [
            "    Score\n",
            "0     328\n",
            "1     470\n",
            "2     405\n",
            "3     375\n",
            "4     298\n",
            "5     326\n",
            "6     276\n",
            "7     362\n",
            "8     410\n",
            "9     255\n",
            "10    391\n",
            "11    370\n",
            "12    455\n",
            "13    229\n",
            "14    300\n",
            "15    183\n",
            "16    283\n",
            "17    366\n",
            "18    400\n",
            "19    495\n",
            "20    215\n",
            "21    157\n",
            "22    374\n",
            "23    306\n",
            "24    280\n",
            "25    409\n",
            "26    321\n",
            "27    269\n",
            "28    398\n",
            "29    200\n"
          ]
        }
      ]
    },
    {
      "cell_type": "code",
      "source": [
        "A=min(data)\n",
        "print('The lowest value is ',A)\n",
        "B=max(data)\n",
        "print('The highestest value is ',B)\n",
        "N=round((B-A)/50)\n",
        "N"
      ],
      "metadata": {
        "colab": {
          "base_uri": "https://localhost:8080/"
        },
        "id": "RTZXwYAc-OHM",
        "outputId": "69d2a9ca-99cb-482c-f32c-e491962a34bc"
      },
      "execution_count": 46,
      "outputs": [
        {
          "output_type": "stream",
          "name": "stdout",
          "text": [
            "The lowest value is  157\n",
            "The highestest value is  495\n"
          ]
        },
        {
          "output_type": "execute_result",
          "data": {
            "text/plain": [
              "7"
            ]
          },
          "metadata": {},
          "execution_count": 46
        }
      ]
    },
    {
      "cell_type": "code",
      "source": [
        "bins=np.linspace(150,500,N+1)\n",
        "print(bins)"
      ],
      "metadata": {
        "colab": {
          "base_uri": "https://localhost:8080/"
        },
        "id": "14DZISME-U6X",
        "outputId": "f24c8729-c614-4969-95e5-491e8bdafbd3"
      },
      "execution_count": 47,
      "outputs": [
        {
          "output_type": "stream",
          "name": "stdout",
          "text": [
            "[150. 200. 250. 300. 350. 400. 450. 500.]\n"
          ]
        }
      ]
    },
    {
      "cell_type": "code",
      "source": [
        "df['Class Intervals']=pd.cut(df['Score'],bins=bins,right=False,)\n",
        "print(df)"
      ],
      "metadata": {
        "colab": {
          "base_uri": "https://localhost:8080/"
        },
        "id": "znYXg2N7-cY0",
        "outputId": "6f4dbeb1-a337-490b-a8ba-29b3d4e6493c"
      },
      "execution_count": 48,
      "outputs": [
        {
          "output_type": "stream",
          "name": "stdout",
          "text": [
            "    Score Class Intervals\n",
            "0     328  [300.0, 350.0)\n",
            "1     470  [450.0, 500.0)\n",
            "2     405  [400.0, 450.0)\n",
            "3     375  [350.0, 400.0)\n",
            "4     298  [250.0, 300.0)\n",
            "5     326  [300.0, 350.0)\n",
            "6     276  [250.0, 300.0)\n",
            "7     362  [350.0, 400.0)\n",
            "8     410  [400.0, 450.0)\n",
            "9     255  [250.0, 300.0)\n",
            "10    391  [350.0, 400.0)\n",
            "11    370  [350.0, 400.0)\n",
            "12    455  [450.0, 500.0)\n",
            "13    229  [200.0, 250.0)\n",
            "14    300  [300.0, 350.0)\n",
            "15    183  [150.0, 200.0)\n",
            "16    283  [250.0, 300.0)\n",
            "17    366  [350.0, 400.0)\n",
            "18    400  [400.0, 450.0)\n",
            "19    495  [450.0, 500.0)\n",
            "20    215  [200.0, 250.0)\n",
            "21    157  [150.0, 200.0)\n",
            "22    374  [350.0, 400.0)\n",
            "23    306  [300.0, 350.0)\n",
            "24    280  [250.0, 300.0)\n",
            "25    409  [400.0, 450.0)\n",
            "26    321  [300.0, 350.0)\n",
            "27    269  [250.0, 300.0)\n",
            "28    398  [350.0, 400.0)\n",
            "29    200  [200.0, 250.0)\n"
          ]
        }
      ]
    },
    {
      "cell_type": "code",
      "source": [
        "table2=pd.crosstab(index=df['Class Intervals'],columns='Frequency')"
      ],
      "metadata": {
        "id": "GzjDoo-G-f9L"
      },
      "execution_count": 49,
      "outputs": []
    },
    {
      "cell_type": "code",
      "source": [
        "table2"
      ],
      "metadata": {
        "colab": {
          "base_uri": "https://localhost:8080/",
          "height": 300
        },
        "id": "coHFgZIU-o8p",
        "outputId": "970ca60e-a931-44f1-df87-25cdff075db9"
      },
      "execution_count": 50,
      "outputs": [
        {
          "output_type": "execute_result",
          "data": {
            "text/plain": [
              "col_0            Frequency\n",
              "Class Intervals           \n",
              "[150.0, 200.0)           2\n",
              "[200.0, 250.0)           3\n",
              "[250.0, 300.0)           6\n",
              "[300.0, 350.0)           5\n",
              "[350.0, 400.0)           7\n",
              "[400.0, 450.0)           4\n",
              "[450.0, 500.0)           3"
            ],
            "text/html": [
              "\n",
              "  <div id=\"df-7a9729ca-96f7-4d2b-aed5-3bd92ceeb6a9\" class=\"colab-df-container\">\n",
              "    <div>\n",
              "<style scoped>\n",
              "    .dataframe tbody tr th:only-of-type {\n",
              "        vertical-align: middle;\n",
              "    }\n",
              "\n",
              "    .dataframe tbody tr th {\n",
              "        vertical-align: top;\n",
              "    }\n",
              "\n",
              "    .dataframe thead th {\n",
              "        text-align: right;\n",
              "    }\n",
              "</style>\n",
              "<table border=\"1\" class=\"dataframe\">\n",
              "  <thead>\n",
              "    <tr style=\"text-align: right;\">\n",
              "      <th>col_0</th>\n",
              "      <th>Frequency</th>\n",
              "    </tr>\n",
              "    <tr>\n",
              "      <th>Class Intervals</th>\n",
              "      <th></th>\n",
              "    </tr>\n",
              "  </thead>\n",
              "  <tbody>\n",
              "    <tr>\n",
              "      <th>[150.0, 200.0)</th>\n",
              "      <td>2</td>\n",
              "    </tr>\n",
              "    <tr>\n",
              "      <th>[200.0, 250.0)</th>\n",
              "      <td>3</td>\n",
              "    </tr>\n",
              "    <tr>\n",
              "      <th>[250.0, 300.0)</th>\n",
              "      <td>6</td>\n",
              "    </tr>\n",
              "    <tr>\n",
              "      <th>[300.0, 350.0)</th>\n",
              "      <td>5</td>\n",
              "    </tr>\n",
              "    <tr>\n",
              "      <th>[350.0, 400.0)</th>\n",
              "      <td>7</td>\n",
              "    </tr>\n",
              "    <tr>\n",
              "      <th>[400.0, 450.0)</th>\n",
              "      <td>4</td>\n",
              "    </tr>\n",
              "    <tr>\n",
              "      <th>[450.0, 500.0)</th>\n",
              "      <td>3</td>\n",
              "    </tr>\n",
              "  </tbody>\n",
              "</table>\n",
              "</div>\n",
              "    <div class=\"colab-df-buttons\">\n",
              "\n",
              "  <div class=\"colab-df-container\">\n",
              "    <button class=\"colab-df-convert\" onclick=\"convertToInteractive('df-7a9729ca-96f7-4d2b-aed5-3bd92ceeb6a9')\"\n",
              "            title=\"Convert this dataframe to an interactive table.\"\n",
              "            style=\"display:none;\">\n",
              "\n",
              "  <svg xmlns=\"http://www.w3.org/2000/svg\" height=\"24px\" viewBox=\"0 -960 960 960\">\n",
              "    <path d=\"M120-120v-720h720v720H120Zm60-500h600v-160H180v160Zm220 220h160v-160H400v160Zm0 220h160v-160H400v160ZM180-400h160v-160H180v160Zm440 0h160v-160H620v160ZM180-180h160v-160H180v160Zm440 0h160v-160H620v160Z\"/>\n",
              "  </svg>\n",
              "    </button>\n",
              "\n",
              "  <style>\n",
              "    .colab-df-container {\n",
              "      display:flex;\n",
              "      gap: 12px;\n",
              "    }\n",
              "\n",
              "    .colab-df-convert {\n",
              "      background-color: #E8F0FE;\n",
              "      border: none;\n",
              "      border-radius: 50%;\n",
              "      cursor: pointer;\n",
              "      display: none;\n",
              "      fill: #1967D2;\n",
              "      height: 32px;\n",
              "      padding: 0 0 0 0;\n",
              "      width: 32px;\n",
              "    }\n",
              "\n",
              "    .colab-df-convert:hover {\n",
              "      background-color: #E2EBFA;\n",
              "      box-shadow: 0px 1px 2px rgba(60, 64, 67, 0.3), 0px 1px 3px 1px rgba(60, 64, 67, 0.15);\n",
              "      fill: #174EA6;\n",
              "    }\n",
              "\n",
              "    .colab-df-buttons div {\n",
              "      margin-bottom: 4px;\n",
              "    }\n",
              "\n",
              "    [theme=dark] .colab-df-convert {\n",
              "      background-color: #3B4455;\n",
              "      fill: #D2E3FC;\n",
              "    }\n",
              "\n",
              "    [theme=dark] .colab-df-convert:hover {\n",
              "      background-color: #434B5C;\n",
              "      box-shadow: 0px 1px 3px 1px rgba(0, 0, 0, 0.15);\n",
              "      filter: drop-shadow(0px 1px 2px rgba(0, 0, 0, 0.3));\n",
              "      fill: #FFFFFF;\n",
              "    }\n",
              "  </style>\n",
              "\n",
              "    <script>\n",
              "      const buttonEl =\n",
              "        document.querySelector('#df-7a9729ca-96f7-4d2b-aed5-3bd92ceeb6a9 button.colab-df-convert');\n",
              "      buttonEl.style.display =\n",
              "        google.colab.kernel.accessAllowed ? 'block' : 'none';\n",
              "\n",
              "      async function convertToInteractive(key) {\n",
              "        const element = document.querySelector('#df-7a9729ca-96f7-4d2b-aed5-3bd92ceeb6a9');\n",
              "        const dataTable =\n",
              "          await google.colab.kernel.invokeFunction('convertToInteractive',\n",
              "                                                    [key], {});\n",
              "        if (!dataTable) return;\n",
              "\n",
              "        const docLinkHtml = 'Like what you see? Visit the ' +\n",
              "          '<a target=\"_blank\" href=https://colab.research.google.com/notebooks/data_table.ipynb>data table notebook</a>'\n",
              "          + ' to learn more about interactive tables.';\n",
              "        element.innerHTML = '';\n",
              "        dataTable['output_type'] = 'display_data';\n",
              "        await google.colab.output.renderOutput(dataTable, element);\n",
              "        const docLink = document.createElement('div');\n",
              "        docLink.innerHTML = docLinkHtml;\n",
              "        element.appendChild(docLink);\n",
              "      }\n",
              "    </script>\n",
              "  </div>\n",
              "\n",
              "\n",
              "<div id=\"df-d0b5fc8d-a815-4959-a3fd-5585656f7ef2\">\n",
              "  <button class=\"colab-df-quickchart\" onclick=\"quickchart('df-d0b5fc8d-a815-4959-a3fd-5585656f7ef2')\"\n",
              "            title=\"Suggest charts\"\n",
              "            style=\"display:none;\">\n",
              "\n",
              "<svg xmlns=\"http://www.w3.org/2000/svg\" height=\"24px\"viewBox=\"0 0 24 24\"\n",
              "     width=\"24px\">\n",
              "    <g>\n",
              "        <path d=\"M19 3H5c-1.1 0-2 .9-2 2v14c0 1.1.9 2 2 2h14c1.1 0 2-.9 2-2V5c0-1.1-.9-2-2-2zM9 17H7v-7h2v7zm4 0h-2V7h2v10zm4 0h-2v-4h2v4z\"/>\n",
              "    </g>\n",
              "</svg>\n",
              "  </button>\n",
              "\n",
              "<style>\n",
              "  .colab-df-quickchart {\n",
              "      --bg-color: #E8F0FE;\n",
              "      --fill-color: #1967D2;\n",
              "      --hover-bg-color: #E2EBFA;\n",
              "      --hover-fill-color: #174EA6;\n",
              "      --disabled-fill-color: #AAA;\n",
              "      --disabled-bg-color: #DDD;\n",
              "  }\n",
              "\n",
              "  [theme=dark] .colab-df-quickchart {\n",
              "      --bg-color: #3B4455;\n",
              "      --fill-color: #D2E3FC;\n",
              "      --hover-bg-color: #434B5C;\n",
              "      --hover-fill-color: #FFFFFF;\n",
              "      --disabled-bg-color: #3B4455;\n",
              "      --disabled-fill-color: #666;\n",
              "  }\n",
              "\n",
              "  .colab-df-quickchart {\n",
              "    background-color: var(--bg-color);\n",
              "    border: none;\n",
              "    border-radius: 50%;\n",
              "    cursor: pointer;\n",
              "    display: none;\n",
              "    fill: var(--fill-color);\n",
              "    height: 32px;\n",
              "    padding: 0;\n",
              "    width: 32px;\n",
              "  }\n",
              "\n",
              "  .colab-df-quickchart:hover {\n",
              "    background-color: var(--hover-bg-color);\n",
              "    box-shadow: 0 1px 2px rgba(60, 64, 67, 0.3), 0 1px 3px 1px rgba(60, 64, 67, 0.15);\n",
              "    fill: var(--button-hover-fill-color);\n",
              "  }\n",
              "\n",
              "  .colab-df-quickchart-complete:disabled,\n",
              "  .colab-df-quickchart-complete:disabled:hover {\n",
              "    background-color: var(--disabled-bg-color);\n",
              "    fill: var(--disabled-fill-color);\n",
              "    box-shadow: none;\n",
              "  }\n",
              "\n",
              "  .colab-df-spinner {\n",
              "    border: 2px solid var(--fill-color);\n",
              "    border-color: transparent;\n",
              "    border-bottom-color: var(--fill-color);\n",
              "    animation:\n",
              "      spin 1s steps(1) infinite;\n",
              "  }\n",
              "\n",
              "  @keyframes spin {\n",
              "    0% {\n",
              "      border-color: transparent;\n",
              "      border-bottom-color: var(--fill-color);\n",
              "      border-left-color: var(--fill-color);\n",
              "    }\n",
              "    20% {\n",
              "      border-color: transparent;\n",
              "      border-left-color: var(--fill-color);\n",
              "      border-top-color: var(--fill-color);\n",
              "    }\n",
              "    30% {\n",
              "      border-color: transparent;\n",
              "      border-left-color: var(--fill-color);\n",
              "      border-top-color: var(--fill-color);\n",
              "      border-right-color: var(--fill-color);\n",
              "    }\n",
              "    40% {\n",
              "      border-color: transparent;\n",
              "      border-right-color: var(--fill-color);\n",
              "      border-top-color: var(--fill-color);\n",
              "    }\n",
              "    60% {\n",
              "      border-color: transparent;\n",
              "      border-right-color: var(--fill-color);\n",
              "    }\n",
              "    80% {\n",
              "      border-color: transparent;\n",
              "      border-right-color: var(--fill-color);\n",
              "      border-bottom-color: var(--fill-color);\n",
              "    }\n",
              "    90% {\n",
              "      border-color: transparent;\n",
              "      border-bottom-color: var(--fill-color);\n",
              "    }\n",
              "  }\n",
              "</style>\n",
              "\n",
              "  <script>\n",
              "    async function quickchart(key) {\n",
              "      const quickchartButtonEl =\n",
              "        document.querySelector('#' + key + ' button');\n",
              "      quickchartButtonEl.disabled = true;  // To prevent multiple clicks.\n",
              "      quickchartButtonEl.classList.add('colab-df-spinner');\n",
              "      try {\n",
              "        const charts = await google.colab.kernel.invokeFunction(\n",
              "            'suggestCharts', [key], {});\n",
              "      } catch (error) {\n",
              "        console.error('Error during call to suggestCharts:', error);\n",
              "      }\n",
              "      quickchartButtonEl.classList.remove('colab-df-spinner');\n",
              "      quickchartButtonEl.classList.add('colab-df-quickchart-complete');\n",
              "    }\n",
              "    (() => {\n",
              "      let quickchartButtonEl =\n",
              "        document.querySelector('#df-d0b5fc8d-a815-4959-a3fd-5585656f7ef2 button');\n",
              "      quickchartButtonEl.style.display =\n",
              "        google.colab.kernel.accessAllowed ? 'block' : 'none';\n",
              "    })();\n",
              "  </script>\n",
              "</div>\n",
              "\n",
              "  <div id=\"id_fdb77c21-c38e-4eca-b8e3-07a395e16812\">\n",
              "    <style>\n",
              "      .colab-df-generate {\n",
              "        background-color: #E8F0FE;\n",
              "        border: none;\n",
              "        border-radius: 50%;\n",
              "        cursor: pointer;\n",
              "        display: none;\n",
              "        fill: #1967D2;\n",
              "        height: 32px;\n",
              "        padding: 0 0 0 0;\n",
              "        width: 32px;\n",
              "      }\n",
              "\n",
              "      .colab-df-generate:hover {\n",
              "        background-color: #E2EBFA;\n",
              "        box-shadow: 0px 1px 2px rgba(60, 64, 67, 0.3), 0px 1px 3px 1px rgba(60, 64, 67, 0.15);\n",
              "        fill: #174EA6;\n",
              "      }\n",
              "\n",
              "      [theme=dark] .colab-df-generate {\n",
              "        background-color: #3B4455;\n",
              "        fill: #D2E3FC;\n",
              "      }\n",
              "\n",
              "      [theme=dark] .colab-df-generate:hover {\n",
              "        background-color: #434B5C;\n",
              "        box-shadow: 0px 1px 3px 1px rgba(0, 0, 0, 0.15);\n",
              "        filter: drop-shadow(0px 1px 2px rgba(0, 0, 0, 0.3));\n",
              "        fill: #FFFFFF;\n",
              "      }\n",
              "    </style>\n",
              "    <button class=\"colab-df-generate\" onclick=\"generateWithVariable('table2')\"\n",
              "            title=\"Generate code using this dataframe.\"\n",
              "            style=\"display:none;\">\n",
              "\n",
              "  <svg xmlns=\"http://www.w3.org/2000/svg\" height=\"24px\"viewBox=\"0 0 24 24\"\n",
              "       width=\"24px\">\n",
              "    <path d=\"M7,19H8.4L18.45,9,17,7.55,7,17.6ZM5,21V16.75L18.45,3.32a2,2,0,0,1,2.83,0l1.4,1.43a1.91,1.91,0,0,1,.58,1.4,1.91,1.91,0,0,1-.58,1.4L9.25,21ZM18.45,9,17,7.55Zm-12,3A5.31,5.31,0,0,0,4.9,8.1,5.31,5.31,0,0,0,1,6.5,5.31,5.31,0,0,0,4.9,4.9,5.31,5.31,0,0,0,6.5,1,5.31,5.31,0,0,0,8.1,4.9,5.31,5.31,0,0,0,12,6.5,5.46,5.46,0,0,0,6.5,12Z\"/>\n",
              "  </svg>\n",
              "    </button>\n",
              "    <script>\n",
              "      (() => {\n",
              "      const buttonEl =\n",
              "        document.querySelector('#id_fdb77c21-c38e-4eca-b8e3-07a395e16812 button.colab-df-generate');\n",
              "      buttonEl.style.display =\n",
              "        google.colab.kernel.accessAllowed ? 'block' : 'none';\n",
              "\n",
              "      buttonEl.onclick = () => {\n",
              "        google.colab.notebook.generateWithVariable('table2');\n",
              "      }\n",
              "      })();\n",
              "    </script>\n",
              "  </div>\n",
              "\n",
              "    </div>\n",
              "  </div>\n"
            ],
            "application/vnd.google.colaboratory.intrinsic+json": {
              "type": "dataframe",
              "variable_name": "table2",
              "summary": "{\n  \"name\": \"table2\",\n  \"rows\": 7,\n  \"fields\": [\n    {\n      \"column\": \"Class Intervals\",\n      \"properties\": {\n        \"dtype\": \"category\",\n        \"num_unique_values\": 7,\n        \"samples\": [\n          \"[150.0, 200.0)\",\n          \"[200.0, 250.0)\",\n          \"[400.0, 450.0)\"\n        ],\n        \"semantic_type\": \"\",\n        \"description\": \"\"\n      }\n    },\n    {\n      \"column\": \"Frequency\",\n      \"properties\": {\n        \"dtype\": \"number\",\n        \"std\": 1,\n        \"min\": 2,\n        \"max\": 7,\n        \"num_unique_values\": 6,\n        \"samples\": [\n          2,\n          3,\n          4\n        ],\n        \"semantic_type\": \"\",\n        \"description\": \"\"\n      }\n    }\n  ]\n}"
            }
          },
          "metadata": {},
          "execution_count": 50
        }
      ]
    }
  ]
}